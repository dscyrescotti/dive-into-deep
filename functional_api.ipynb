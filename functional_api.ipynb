{
 "metadata": {
  "language_info": {
   "codemirror_mode": {
    "name": "ipython",
    "version": 3
   },
   "file_extension": ".py",
   "mimetype": "text/x-python",
   "name": "python",
   "nbconvert_exporter": "python",
   "pygments_lexer": "ipython3",
   "version": "3.8.5-final"
  },
  "orig_nbformat": 2,
  "kernelspec": {
   "name": "python3",
   "display_name": "Python 3",
   "language": "python"
  }
 },
 "nbformat": 4,
 "nbformat_minor": 2,
 "cells": [
  {
   "cell_type": "code",
   "execution_count": 68,
   "metadata": {},
   "outputs": [
    {
     "output_type": "stream",
     "name": "stdout",
     "text": [
      "Model: \"model_16\"\n_________________________________________________________________\nLayer (type)                 Output Shape              Param #   \n=================================================================\ninput_9 (InputLayer)         [(None, 64)]              0         \n_________________________________________________________________\ndense_32 (Dense)             (None, 32)                2080      \n_________________________________________________________________\ndense_33 (Dense)             (None, 32)                1056      \n_________________________________________________________________\ndense_34 (Dense)             (None, 10)                330       \n=================================================================\nTotal params: 3,466\nTrainable params: 3,466\nNon-trainable params: 0\n_________________________________________________________________\n"
     ]
    }
   ],
   "source": [
    "from keras import models, layers, Input\n",
    "\n",
    "input_tensor = Input(shape=(64,))\n",
    "\n",
    "x = layers.Dense(32, activation='relu')(input_tensor)\n",
    "x = layers.Dense(32, activation='relu')(x)\n",
    "output_tensor = layers.Dense(10, activation='softmax')(x)\n",
    "\n",
    "model = models.Model(input_tensor, output_tensor)\n",
    "model.summary()"
   ]
  },
  {
   "cell_type": "code",
   "execution_count": 69,
   "metadata": {},
   "outputs": [],
   "source": [
    "model.compile(optimizer='rmsprop', loss='categorical_crossentropy', metrics=['acc'])"
   ]
  },
  {
   "cell_type": "code",
   "execution_count": 70,
   "metadata": {},
   "outputs": [
    {
     "output_type": "stream",
     "name": "stdout",
     "text": [
      "Epoch 1/10\n",
      "8/8 [==============================] - 0s 2ms/step - loss: 12.0036 - acc: 0.0977\n",
      "Epoch 2/10\n",
      "8/8 [==============================] - 0s 4ms/step - loss: 12.5776 - acc: 0.0799\n",
      "Epoch 3/10\n",
      "8/8 [==============================] - 0s 4ms/step - loss: 13.3381 - acc: 0.0800\n",
      "Epoch 4/10\n",
      "8/8 [==============================] - 0s 3ms/step - loss: 14.7565 - acc: 0.0854\n",
      "Epoch 5/10\n",
      "8/8 [==============================] - 0s 2ms/step - loss: 16.4107 - acc: 0.0763\n",
      "Epoch 6/10\n",
      "8/8 [==============================] - 0s 3ms/step - loss: 18.7997 - acc: 0.0856\n",
      "Epoch 7/10\n",
      "8/8 [==============================] - 0s 12ms/step - loss: 21.5692 - acc: 0.0843\n",
      "Epoch 8/10\n",
      "8/8 [==============================] - 0s 5ms/step - loss: 25.0705 - acc: 0.0834\n",
      "Epoch 9/10\n",
      "8/8 [==============================] - 0s 3ms/step - loss: 28.4168 - acc: 0.0749\n",
      "Epoch 10/10\n",
      "8/8 [==============================] - 0s 3ms/step - loss: 32.0637 - acc: 0.0869\n",
      "32/32 [==============================] - 0s 988us/step - loss: 35.3195 - acc: 0.0860\n"
     ]
    }
   ],
   "source": [
    "import numpy as np\n",
    "\n",
    "train_x = np.random.random((1000, 64))\n",
    "train_y = np.random.random((1000, 10))\n",
    "\n",
    "model.fit(train_x, train_y, epochs=10, batch_size=128)\n",
    "score = model.evaluate(train_x, train_y)"
   ]
  },
  {
   "cell_type": "code",
   "execution_count": 78,
   "metadata": {},
   "outputs": [
    {
     "output_type": "stream",
     "name": "stdout",
     "text": [
      "Epoch 1/10\n",
      "8/8 [==============================] - 4s 103ms/step - loss: 0.0000e+00 - acc: 0.0000e+00\n",
      "Epoch 2/10\n",
      "8/8 [==============================] - 1s 88ms/step - loss: 0.0000e+00 - acc: 0.0000e+00\n",
      "Epoch 3/10\n",
      "8/8 [==============================] - 1s 88ms/step - loss: 0.0000e+00 - acc: 0.0000e+00\n",
      "Epoch 4/10\n",
      "8/8 [==============================] - 1s 87ms/step - loss: 0.0000e+00 - acc: 0.0000e+00\n",
      "Epoch 5/10\n",
      "8/8 [==============================] - 1s 89ms/step - loss: 0.0000e+00 - acc: 0.0000e+00\n",
      "Epoch 6/10\n",
      "8/8 [==============================] - 1s 88ms/step - loss: 0.0000e+00 - acc: 0.0000e+00\n",
      "Epoch 7/10\n",
      "8/8 [==============================] - 1s 88ms/step - loss: 0.0000e+00 - acc: 0.0000e+00\n",
      "Epoch 8/10\n",
      "8/8 [==============================] - 1s 90ms/step - loss: 0.0000e+00 - acc: 0.0000e+00\n",
      "Epoch 9/10\n",
      "8/8 [==============================] - 1s 88ms/step - loss: 0.0000e+00 - acc: 0.0000e+00\n",
      "Epoch 10/10\n",
      "8/8 [==============================] - 1s 105ms/step - loss: 0.0000e+00 - acc: 0.0000e+00\n"
     ]
    },
    {
     "output_type": "execute_result",
     "data": {
      "text/plain": [
       "<tensorflow.python.keras.callbacks.History at 0x7fb405c2beb0>"
      ]
     },
     "metadata": {},
     "execution_count": 78
    }
   ],
   "source": [
    "from keras.models import Model\n",
    "from keras import layers\n",
    "from keras import Input\n",
    "\n",
    "text_vocabulary_size = 10000\n",
    "question_vocabulary_size = 10000\n",
    "answer_vocabulary_size = 500\n",
    "\n",
    "text_input = Input(shape=(None,), dtype='int32', name='text')\n",
    "embedded_text = layers.Embedding(text_vocabulary_size, 64)(text_input)\n",
    "encoded_text = layers.LSTM(32)(embedded_text)\n",
    "\n",
    "question_input = Input(shape=(None,), dtype='int32', name='question')\n",
    "embedded_question = layers.Embedding(question_vocabulary_size, 32)(question_input)\n",
    "encoded_question = layers.LSTM(16)(embedded_question)\n",
    "\n",
    "concatenated = layers.concatenate([encoded_text, encoded_question], axis=-1)\n",
    "\n",
    "answer = layers.Dense(answer_vocabulary_size, activation='softmax')(concatenated)\n",
    "\n",
    "model = Model([text_input, question_input], answer)\n",
    "model.compile(optimizer='rmsprop', loss='categorical_crossentropy', metrics=['acc'])\n",
    "\n",
    "import numpy as np\n",
    "\n",
    "num_samples = 1000\n",
    "max_length = 100\n",
    "\n",
    "text = np.random.randint(1, text_vocabulary_size, size=(num_samples, max_length))\n",
    "question = np.random.randint(1, question_vocabulary_size, size=(num_samples, max_length))\n",
    "answers = np.random.randint(0, 1, size=(num_samples, answer_vocabulary_size))\n",
    "\n",
    "model.fit([text, question], answers, epochs=10, batch_size=128)"
   ]
  },
  {
   "cell_type": "code",
   "execution_count": 81,
   "metadata": {},
   "outputs": [],
   "source": [
    "vocabulary_size = 50000\n",
    "num_income_group = 10\n",
    "\n",
    "posts_input = Input(shape=(None,), dtype='int32', name='post')\n",
    "embedded_posts = layers.Embedding(vocabulary_size, 256)(posts_input)\n",
    "\n",
    "x = layers.Conv1D(128, 5, activation='relu')(embedded_posts)\n",
    "x = layers.MaxPooling1D(5)(x)\n",
    "x = layers.Conv1D(256, 5, activation='relu')(x)\n",
    "x = layers.Conv1D(256, 5, activation='relu')(x)\n",
    "x = layers.MaxPooling1D(5)(x)\n",
    "x = layers.Conv1D(256, 5, activation='relu')(x)\n",
    "x = layers.Conv1D(256, 5, activation='relu')(x)\n",
    "x = layers.GlobalMaxPooling1D()(x)\n",
    "x = layers.Dense(128, activation='relu')(x)\n",
    "\n",
    "age = layers.Dense(1, name='age')(x)\n",
    "income = layers.Dense(num_income_group, activation='softmax', name='income')(x)\n",
    "gender = layers.Dense(1, name='gender', activation='sigmoid')(x)\n",
    "model = models.Model(posts_input, [age, income, gender])"
   ]
  },
  {
   "cell_type": "code",
   "execution_count": 82,
   "metadata": {},
   "outputs": [],
   "source": [
    "model.compile(optimizer='rmsprop', loss=['mse', 'categorical_crossentropy', 'binary_crossentropy'], loss_weights=[0.25, 1., 10.])"
   ]
  }
 ]
}