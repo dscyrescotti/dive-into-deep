{
 "metadata": {
  "language_info": {
   "codemirror_mode": {
    "name": "ipython",
    "version": 3
   },
   "file_extension": ".py",
   "mimetype": "text/x-python",
   "name": "python",
   "nbconvert_exporter": "python",
   "pygments_lexer": "ipython3",
   "version": "3.8.5-final"
  },
  "orig_nbformat": 2,
  "kernelspec": {
   "name": "python3",
   "display_name": "Python 3",
   "language": "python"
  }
 },
 "nbformat": 4,
 "nbformat_minor": 2,
 "cells": [
  {
   "cell_type": "code",
   "execution_count": 2,
   "metadata": {},
   "outputs": [],
   "source": [
    "from keras import layers, models\n",
    "from keras.preprocessing import sequence\n",
    "from keras.datasets import imdb\n",
    "\n",
    "max_features = 2000\n",
    "maxlen = 500\n",
    "\n",
    "(train_texts, train_labels), (test_texts, test_labels) = imdb.load_data(num_words=max_features)\n"
   ]
  },
  {
   "cell_type": "code",
   "execution_count": 3,
   "metadata": {},
   "outputs": [],
   "source": [
    "train_texts = sequence.pad_sequences(train_texts, maxlen=maxlen)\n",
    "test_texts = sequence.pad_sequences(test_texts, maxlen=maxlen)"
   ]
  },
  {
   "cell_type": "code",
   "execution_count": 5,
   "metadata": {},
   "outputs": [],
   "source": [
    "model = models.Sequential()\n",
    "model.add(layers.Embedding(max_features, 128, input_length=maxlen, name='embedding'))\n",
    "model.add(layers.Conv1D(32, 7, activation='relu'))\n",
    "model.add(layers.MaxPooling1D(5))\n",
    "model.add(layers.Conv1D(32, 7, activation='relu'))\n",
    "model.add(layers.GlobalMaxPooling1D())\n",
    "model.add(layers.Dense(1, activation='sigmoid'))\n",
    "\n",
    "model.compile(optimizer='rmsprop', loss='binary_crossentropy', metrics=['acc'])"
   ]
  },
  {
   "cell_type": "code",
   "execution_count": 6,
   "metadata": {},
   "outputs": [
    {
     "output_type": "stream",
     "name": "stdout",
     "text": [
      "Epoch 1/20\n",
      "196/196 [==============================] - 52s 261ms/step - loss: 0.6101 - acc: 0.6370\n",
      "Epoch 2/20\n",
      "196/196 [==============================] - 71s 364ms/step - loss: 0.3232 - acc: 0.8670\n",
      "Epoch 3/20\n",
      "196/196 [==============================] - 68s 347ms/step - loss: 0.2676 - acc: 0.8927\n",
      "Epoch 4/20\n",
      "196/196 [==============================] - 71s 360ms/step - loss: 0.2337 - acc: 0.9092\n",
      "Epoch 5/20\n",
      "196/196 [==============================] - 71s 364ms/step - loss: 0.2003 - acc: 0.9242\n",
      "Epoch 6/20\n",
      "196/196 [==============================] - 77s 391ms/step - loss: 0.1756 - acc: 0.9355\n",
      "Epoch 7/20\n",
      "196/196 [==============================] - 61s 311ms/step - loss: 0.1432 - acc: 0.9508\n",
      "Epoch 8/20\n",
      "196/196 [==============================] - 82s 418ms/step - loss: 0.1108 - acc: 0.9652\n",
      "Epoch 9/20\n",
      "196/196 [==============================] - 69s 350ms/step - loss: 0.0795 - acc: 0.9788\n",
      "Epoch 10/20\n",
      "196/196 [==============================] - 67s 341ms/step - loss: 0.0525 - acc: 0.9878\n",
      "Epoch 11/20\n",
      "196/196 [==============================] - 71s 364ms/step - loss: 0.0351 - acc: 0.9926\n",
      "Epoch 12/20\n",
      "196/196 [==============================] - 63s 320ms/step - loss: 0.0197 - acc: 0.9971\n",
      "Epoch 13/20\n",
      "196/196 [==============================] - 61s 311ms/step - loss: 0.0103 - acc: 0.9983\n",
      "Epoch 14/20\n",
      "196/196 [==============================] - 57s 292ms/step - loss: 0.0067 - acc: 0.9992\n",
      "Epoch 15/20\n",
      "196/196 [==============================] - 59s 302ms/step - loss: 0.0042 - acc: 0.9991\n",
      "Epoch 16/20\n",
      "196/196 [==============================] - 55s 283ms/step - loss: 0.0022 - acc: 0.9997\n",
      "Epoch 17/20\n",
      "196/196 [==============================] - 58s 295ms/step - loss: 0.0016 - acc: 0.9997\n",
      "Epoch 18/20\n",
      "196/196 [==============================] - 64s 328ms/step - loss: 0.0011 - acc: 0.9998\n",
      "Epoch 19/20\n",
      "196/196 [==============================] - 74s 378ms/step - loss: 3.1697e-04 - acc: 0.9999\n",
      "Epoch 20/20\n",
      "196/196 [==============================] - 76s 390ms/step - loss: 3.0606e-04 - acc: 1.0000\n"
     ]
    },
    {
     "output_type": "execute_result",
     "data": {
      "text/plain": [
       "<tensorflow.python.keras.callbacks.History at 0x7fb9029459d0>"
      ]
     },
     "metadata": {},
     "execution_count": 6
    }
   ],
   "source": [
    "from keras import callbacks\n",
    "\n",
    "_callbacks = [\n",
    "    callbacks.TensorBoard(\n",
    "        log_dir='my_log_dir',\n",
    "        histogram_freq=1,\n",
    "        embeddings_freq=1\n",
    "    )\n",
    "]\n",
    "\n",
    "model.fit(train_texts, train_labels, epochs=20, batch_size=128, callbacks=_callbacks)"
   ]
  },
  {
   "cell_type": "code",
   "execution_count": null,
   "metadata": {},
   "outputs": [],
   "source": []
  }
 ]
}